{
  "nbformat": 4,
  "nbformat_minor": 0,
  "metadata": {
    "colab": {
      "name": "Untitled37.ipynb",
      "provenance": [],
      "authorship_tag": "ABX9TyPzCD3w9mO+qRV473dEbppb",
      "include_colab_link": true
    },
    "kernelspec": {
      "name": "python3",
      "display_name": "Python 3"
    },
    "language_info": {
      "name": "python"
    }
  },
  "cells": [
    {
      "cell_type": "markdown",
      "metadata": {
        "id": "view-in-github",
        "colab_type": "text"
      },
      "source": [
        "<a href=\"https://colab.research.google.com/github/Sait-Bozteke/covid19-risk-due/blob/main/Untitled37.ipynb\" target=\"_parent\"><img src=\"https://colab.research.google.com/assets/colab-badge.svg\" alt=\"Open In Colab\"/></a>"
      ]
    },
    {
      "cell_type": "code",
      "metadata": {
        "id": "Te3FZXlWmj2-"
      },
      "source": [
        "age = input(\"Are you a cigarette addict older than 75 years old?: \")\n",
        "chronic = input(\"Do you have a severe chronic disease?\")\t\n",
        "immune = input(\"Is your immune system too weak?\")\t\n",
        "if age == \"Yes\":\t\n",
        "age = True\t\n",
        "else:\t\n",
        "age = False\t\n",
        "if chronic == \"Yes\":\t\n",
        "chronic = True\t\n",
        "else:\t\n",
        "chronic = False\t\n",
        "if immune == \"Yes\":\t\n",
        "immune = True\t\n",
        "else:\t\n",
        "immune = False\t\n",
        "if age and chronic and immune:\t\n",
        "print(\"You are in risky group\")\t\n",
        "else:\t\n",
        "\n",
        "print(\"You are not in risky group\")\n",
        "\n",
        "\n"
      ],
      "execution_count": null,
      "outputs": []
    }
  ]
}